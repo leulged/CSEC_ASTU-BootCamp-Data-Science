{
  "nbformat": 4,
  "nbformat_minor": 0,
  "metadata": {
    "colab": {
      "provenance": [],
      "authorship_tag": "ABX9TyMmkxFU6cEEyaN/cZq6qrAu",
      "include_colab_link": true
    },
    "kernelspec": {
      "name": "python3",
      "display_name": "Python 3"
    },
    "language_info": {
      "name": "python"
    }
  },
  "cells": [
    {
      "cell_type": "markdown",
      "metadata": {
        "id": "view-in-github",
        "colab_type": "text"
      },
      "source": [
        "<a href=\"https://colab.research.google.com/github/leulged/CSEC_ASTU-BootCamp-Data-Science/blob/main/csec_astu_boocamp.ipynb\" target=\"_parent\"><img src=\"https://colab.research.google.com/assets/colab-badge.svg\" alt=\"Open In Colab\"/></a>"
      ]
    },
    {
      "cell_type": "markdown",
      "source": [
        "**1. The question is: What is the difference between a list, dictionary, and NumPy array?**\n"
      ],
      "metadata": {
        "id": "Rr_1P-DjljLy"
      }
    },
    {
      "cell_type": "markdown",
      "source": [
        "**1. List**: Based on my understanding from data structures and A2SV, a list is a collection that stores multiple values in an ordered sequence. You can add, remove, and modify items within the list. Additionally, lists allow you to traverse or search through elements using their indices."
      ],
      "metadata": {
        "id": "4m31i1yIl2SQ"
      }
    },
    {
      "cell_type": "markdown",
      "source": [],
      "metadata": {
        "id": "DBX0SjUmlnXE"
      }
    },
    {
      "cell_type": "code",
      "execution_count": null,
      "metadata": {
        "colab": {
          "base_uri": "https://localhost:8080/"
        },
        "id": "xUj2KnHlc35n",
        "outputId": "67423141-2d0c-4a93-8319-6c4b3eb08f7f"
      },
      "outputs": [
        {
          "output_type": "stream",
          "name": "stdout",
          "text": [
            "[1, 2, 3, 4]\n",
            "1\n"
          ]
        }
      ],
      "source": [
        "#list code\n",
        "my_list = [1 , 2 , 3 , 4]\n",
        "print(my_list)\n",
        "print(my_list[0])"
      ]
    },
    {
      "cell_type": "markdown",
      "source": [
        "**2. Dictionary**: A dictionary stores data using a key-value pair. It is ideal for storing related data together. You can access or traverse the data using either the keys, the values, or both."
      ],
      "metadata": {
        "id": "3qvJjWk4nPQP"
      }
    },
    {
      "cell_type": "code",
      "source": [
        "my_dict = {\"name\": \"leul\" , \"dep\" : \"SE\"}\n",
        "print(my_dict[\"name\"]) #this by using their key\n",
        "#access using key and values\n",
        "for key , val in my_dict.items():\n",
        "  print(key + \" \" +  val)"
      ],
      "metadata": {
        "colab": {
          "base_uri": "https://localhost:8080/"
        },
        "id": "WcOujoaNogCh",
        "outputId": "f5605183-54ca-4e3e-8e41-aee34a77a526"
      },
      "execution_count": 1,
      "outputs": [
        {
          "output_type": "stream",
          "name": "stdout",
          "text": [
            "leul\n",
            "name leul\n",
            "dep SE\n"
          ]
        }
      ]
    },
    {
      "cell_type": "markdown",
      "source": [
        "**3. NumPy Array**: A NumPy array is a specialized array used for numerical operations and fast mathematical calculations. It is highly efficient for data science and big data tasks. You can traverse a NumPy array just like a list. Before using NumPy, you must import the NumPy library."
      ],
      "metadata": {
        "id": "zevYOTWOpPg0"
      }
    },
    {
      "cell_type": "code",
      "source": [
        "import numpy as np # this how we import its lib.\n",
        "\n",
        "arr = np.array([1, 2, 3, 4]) # we use np.array to store it.\n",
        "\n",
        "#we can traverse the same as list\n",
        "for item in arr:\n",
        "  print(item)"
      ],
      "metadata": {
        "colab": {
          "base_uri": "https://localhost:8080/"
        },
        "id": "3y-bihemp1rZ",
        "outputId": "d8fca437-289a-4e89-aa0b-5cf346c8058b"
      },
      "execution_count": null,
      "outputs": [
        {
          "output_type": "stream",
          "name": "stdout",
          "text": [
            "1\n",
            "2\n",
            "3\n",
            "4\n"
          ]
        }
      ]
    },
    {
      "cell_type": "markdown",
      "source": [
        "lets summarise in simple way\n",
        "\n",
        "**List**: Stores ordered values like strings, integers, etc. Accessed using indices.\n",
        "\n",
        "**Dictionary**: Stores data in key-value pairs, useful for related information.\n",
        "\n",
        "**NumPy Array**: A faster and more powerful version of a list, typically used for numerical data. Ideal for math and data science tasks."
      ],
      "metadata": {
        "id": "VZq0jkoBqxwT"
      }
    },
    {
      "cell_type": "markdown",
      "source": [
        "**_2. Given the list [10, 15, 20, 25, 30], write a function that returns the square of only even numbers._**\n"
      ],
      "metadata": {
        "id": "UY4fN6Bhr70n"
      }
    },
    {
      "cell_type": "code",
      "source": [
        "#using simple loop and if statement\n",
        "\n",
        "# this how we create a function\n",
        "def SquareNumber(arr):\n",
        "  for i in arr:\n",
        "    # modulo means remaining so if we have even and divide by 2 our remaining is 0\n",
        "    if i % 2 == 0:\n",
        "      print(i ** 2)\n",
        "\n",
        "SquareNumber( [10, 15, 20, 25, 30])\n",
        "\n"
      ],
      "metadata": {
        "colab": {
          "base_uri": "https://localhost:8080/"
        },
        "id": "SaNSLEq4r7GO",
        "outputId": "a29064b0-b607-46f6-bc05-0f7dc90a8866"
      },
      "execution_count": null,
      "outputs": [
        {
          "output_type": "stream",
          "name": "stdout",
          "text": [
            "100\n",
            "400\n",
            "900\n"
          ]
        }
      ]
    },
    {
      "cell_type": "markdown",
      "source": [
        "**_*3. What does the following code output, and why?_***\n",
        "\n",
        "\n",
        "```\n",
        "# This is formatted as code\n",
        "```\n",
        "\n",
        "\n"
      ],
      "metadata": {
        "id": "Et9I0OhwuZfG"
      }
    },
    {
      "cell_type": "code",
      "source": [
        "x = [1 , 2 , 3]\n",
        "y = x\n",
        "y.append(4)\n",
        "print(x)"
      ],
      "metadata": {
        "colab": {
          "base_uri": "https://localhost:8080/"
        },
        "id": "g8mjmDB-uj6t",
        "outputId": "c89359cd-8379-47a8-fd16-15d1a9fc1c95"
      },
      "execution_count": null,
      "outputs": [
        {
          "output_type": "stream",
          "name": "stdout",
          "text": [
            "[1, 2, 3, 4]\n"
          ]
        }
      ]
    },
    {
      "cell_type": "markdown",
      "source": [
        "**The first line creates a list and assigns it to the variable `x`. When we write `y = x`, it doesn't create a new list; instead, `y` points to the same list as `x`. So, when we do `y.append(4)`, it adds `4` to the same list that both `x` and `y` are referencing.**\n",
        "\n",
        "**That's why when we print `x`, we see `[1, 2, 3, 4]`. Since lists are mutable, assigning one list to another variable means both variables share the same list in memory.**"
      ],
      "metadata": {
        "id": "82zj2KiIu1lu"
      }
    },
    {
      "cell_type": "markdown",
      "source": [
        "**4. What does .shape and .describe() tell you about a pandas DataFrame? Show using an example.**\n"
      ],
      "metadata": {
        "id": "N7E8lGWTvmKY"
      }
    },
    {
      "cell_type": "markdown",
      "source": [
        ".shape : tells us the number of rows and columns we have in our data frame.It uses rows , columns\n",
        "\n",
        ".describe: gives the summary of numbers in the data frame like:\n",
        "count(how many values are there), mean , standard deviation , min , max and quartiles"
      ],
      "metadata": {
        "id": "69RsE3ruvqtW"
      }
    },
    {
      "cell_type": "code",
      "source": [
        "import pandas as pd\n",
        "\n",
        "# Create a small DataFrame\n",
        "data = {\n",
        "    'age': [22, 25, 30, 28],\n",
        "    'salary': [3000, 4000, 5000, 4500]\n",
        "}\n",
        "\n",
        "df = pd.DataFrame(data) # converts the dictionary into DataFrame(its like a table with rows and columns)\n",
        "\n",
        "# Show the shape\n",
        "print(\"Shape:\", df.shape)\n",
        "\n",
        "# Show summary statistics\n",
        "print(\"\\nDescribe :\")\n",
        "print(df.describe())\n"
      ],
      "metadata": {
        "colab": {
          "base_uri": "https://localhost:8080/"
        },
        "id": "vCFgBcOywXVQ",
        "outputId": "e733e9b6-4d19-41ee-ded6-3682bd36fe7f"
      },
      "execution_count": null,
      "outputs": [
        {
          "output_type": "stream",
          "name": "stdout",
          "text": [
            "Shape: (4, 2)\n",
            "\n",
            "Describe :\n",
            "         age       salary\n",
            "count   4.00     4.000000\n",
            "mean   26.25  4125.000000\n",
            "std     3.50   853.912564\n",
            "min    22.00  3000.000000\n",
            "25%    24.25  3750.000000\n",
            "50%    26.50  4250.000000\n",
            "75%    28.50  4625.000000\n",
            "max    30.00  5000.000000\n"
          ]
        }
      ]
    },
    {
      "cell_type": "markdown",
      "source": [
        "**5. Load this CSV: airtravel.csv  \n",
        "Print the [first 5 rows](https://)  \n",
        "What do you notice about the data?**\n"
      ],
      "metadata": {
        "id": "Mhs8pZ2BxYE4"
      }
    },
    {
      "cell_type": "markdown",
      "source": [
        "*For* know since they are small data lets input as dictionary. lets work on it.\n",
        "\n",
        "```\n",
        "# This is formatted as code\n",
        "```\n",
        "\n"
      ],
      "metadata": {
        "id": "D4ySGdPNxkDo"
      }
    },
    {
      "cell_type": "code",
      "source": [
        "from google.colab import files\n",
        "\n",
        "# This will let you upload a file from a computer , i get this from chatGPT i dont have much knowledge google colab i use jupyter notebook\n",
        "\n",
        "uploaded = files.upload()"
      ],
      "metadata": {
        "colab": {
          "base_uri": "https://localhost:8080/",
          "height": 73
        },
        "id": "RVEcKnCtxwJ-",
        "outputId": "c0735103-4258-4c95-98e2-233cb1ebcbae"
      },
      "execution_count": null,
      "outputs": [
        {
          "output_type": "display_data",
          "data": {
            "text/plain": [
              "<IPython.core.display.HTML object>"
            ],
            "text/html": [
              "\n",
              "     <input type=\"file\" id=\"files-1550ae4a-e3ed-4e05-b5c8-5038ea0aa431\" name=\"files[]\" multiple disabled\n",
              "        style=\"border:none\" />\n",
              "     <output id=\"result-1550ae4a-e3ed-4e05-b5c8-5038ea0aa431\">\n",
              "      Upload widget is only available when the cell has been executed in the\n",
              "      current browser session. Please rerun this cell to enable.\n",
              "      </output>\n",
              "      <script>// Copyright 2017 Google LLC\n",
              "//\n",
              "// Licensed under the Apache License, Version 2.0 (the \"License\");\n",
              "// you may not use this file except in compliance with the License.\n",
              "// You may obtain a copy of the License at\n",
              "//\n",
              "//      http://www.apache.org/licenses/LICENSE-2.0\n",
              "//\n",
              "// Unless required by applicable law or agreed to in writing, software\n",
              "// distributed under the License is distributed on an \"AS IS\" BASIS,\n",
              "// WITHOUT WARRANTIES OR CONDITIONS OF ANY KIND, either express or implied.\n",
              "// See the License for the specific language governing permissions and\n",
              "// limitations under the License.\n",
              "\n",
              "/**\n",
              " * @fileoverview Helpers for google.colab Python module.\n",
              " */\n",
              "(function(scope) {\n",
              "function span(text, styleAttributes = {}) {\n",
              "  const element = document.createElement('span');\n",
              "  element.textContent = text;\n",
              "  for (const key of Object.keys(styleAttributes)) {\n",
              "    element.style[key] = styleAttributes[key];\n",
              "  }\n",
              "  return element;\n",
              "}\n",
              "\n",
              "// Max number of bytes which will be uploaded at a time.\n",
              "const MAX_PAYLOAD_SIZE = 100 * 1024;\n",
              "\n",
              "function _uploadFiles(inputId, outputId) {\n",
              "  const steps = uploadFilesStep(inputId, outputId);\n",
              "  const outputElement = document.getElementById(outputId);\n",
              "  // Cache steps on the outputElement to make it available for the next call\n",
              "  // to uploadFilesContinue from Python.\n",
              "  outputElement.steps = steps;\n",
              "\n",
              "  return _uploadFilesContinue(outputId);\n",
              "}\n",
              "\n",
              "// This is roughly an async generator (not supported in the browser yet),\n",
              "// where there are multiple asynchronous steps and the Python side is going\n",
              "// to poll for completion of each step.\n",
              "// This uses a Promise to block the python side on completion of each step,\n",
              "// then passes the result of the previous step as the input to the next step.\n",
              "function _uploadFilesContinue(outputId) {\n",
              "  const outputElement = document.getElementById(outputId);\n",
              "  const steps = outputElement.steps;\n",
              "\n",
              "  const next = steps.next(outputElement.lastPromiseValue);\n",
              "  return Promise.resolve(next.value.promise).then((value) => {\n",
              "    // Cache the last promise value to make it available to the next\n",
              "    // step of the generator.\n",
              "    outputElement.lastPromiseValue = value;\n",
              "    return next.value.response;\n",
              "  });\n",
              "}\n",
              "\n",
              "/**\n",
              " * Generator function which is called between each async step of the upload\n",
              " * process.\n",
              " * @param {string} inputId Element ID of the input file picker element.\n",
              " * @param {string} outputId Element ID of the output display.\n",
              " * @return {!Iterable<!Object>} Iterable of next steps.\n",
              " */\n",
              "function* uploadFilesStep(inputId, outputId) {\n",
              "  const inputElement = document.getElementById(inputId);\n",
              "  inputElement.disabled = false;\n",
              "\n",
              "  const outputElement = document.getElementById(outputId);\n",
              "  outputElement.innerHTML = '';\n",
              "\n",
              "  const pickedPromise = new Promise((resolve) => {\n",
              "    inputElement.addEventListener('change', (e) => {\n",
              "      resolve(e.target.files);\n",
              "    });\n",
              "  });\n",
              "\n",
              "  const cancel = document.createElement('button');\n",
              "  inputElement.parentElement.appendChild(cancel);\n",
              "  cancel.textContent = 'Cancel upload';\n",
              "  const cancelPromise = new Promise((resolve) => {\n",
              "    cancel.onclick = () => {\n",
              "      resolve(null);\n",
              "    };\n",
              "  });\n",
              "\n",
              "  // Wait for the user to pick the files.\n",
              "  const files = yield {\n",
              "    promise: Promise.race([pickedPromise, cancelPromise]),\n",
              "    response: {\n",
              "      action: 'starting',\n",
              "    }\n",
              "  };\n",
              "\n",
              "  cancel.remove();\n",
              "\n",
              "  // Disable the input element since further picks are not allowed.\n",
              "  inputElement.disabled = true;\n",
              "\n",
              "  if (!files) {\n",
              "    return {\n",
              "      response: {\n",
              "        action: 'complete',\n",
              "      }\n",
              "    };\n",
              "  }\n",
              "\n",
              "  for (const file of files) {\n",
              "    const li = document.createElement('li');\n",
              "    li.append(span(file.name, {fontWeight: 'bold'}));\n",
              "    li.append(span(\n",
              "        `(${file.type || 'n/a'}) - ${file.size} bytes, ` +\n",
              "        `last modified: ${\n",
              "            file.lastModifiedDate ? file.lastModifiedDate.toLocaleDateString() :\n",
              "                                    'n/a'} - `));\n",
              "    const percent = span('0% done');\n",
              "    li.appendChild(percent);\n",
              "\n",
              "    outputElement.appendChild(li);\n",
              "\n",
              "    const fileDataPromise = new Promise((resolve) => {\n",
              "      const reader = new FileReader();\n",
              "      reader.onload = (e) => {\n",
              "        resolve(e.target.result);\n",
              "      };\n",
              "      reader.readAsArrayBuffer(file);\n",
              "    });\n",
              "    // Wait for the data to be ready.\n",
              "    let fileData = yield {\n",
              "      promise: fileDataPromise,\n",
              "      response: {\n",
              "        action: 'continue',\n",
              "      }\n",
              "    };\n",
              "\n",
              "    // Use a chunked sending to avoid message size limits. See b/62115660.\n",
              "    let position = 0;\n",
              "    do {\n",
              "      const length = Math.min(fileData.byteLength - position, MAX_PAYLOAD_SIZE);\n",
              "      const chunk = new Uint8Array(fileData, position, length);\n",
              "      position += length;\n",
              "\n",
              "      const base64 = btoa(String.fromCharCode.apply(null, chunk));\n",
              "      yield {\n",
              "        response: {\n",
              "          action: 'append',\n",
              "          file: file.name,\n",
              "          data: base64,\n",
              "        },\n",
              "      };\n",
              "\n",
              "      let percentDone = fileData.byteLength === 0 ?\n",
              "          100 :\n",
              "          Math.round((position / fileData.byteLength) * 100);\n",
              "      percent.textContent = `${percentDone}% done`;\n",
              "\n",
              "    } while (position < fileData.byteLength);\n",
              "  }\n",
              "\n",
              "  // All done.\n",
              "  yield {\n",
              "    response: {\n",
              "      action: 'complete',\n",
              "    }\n",
              "  };\n",
              "}\n",
              "\n",
              "scope.google = scope.google || {};\n",
              "scope.google.colab = scope.google.colab || {};\n",
              "scope.google.colab._files = {\n",
              "  _uploadFiles,\n",
              "  _uploadFilesContinue,\n",
              "};\n",
              "})(self);\n",
              "</script> "
            ]
          },
          "metadata": {}
        },
        {
          "output_type": "stream",
          "name": "stdout",
          "text": [
            "Saving airtravel (1).csv to airtravel (1).csv\n"
          ]
        }
      ]
    },
    {
      "cell_type": "code",
      "source": [
        "import pandas as pd\n",
        "\n",
        "# we upload using .read_csv keyboard\n",
        "df = pd.read_csv('airtravel (1).csv')\n",
        "\n",
        "# Shows the first 5 rows\n",
        "print(df.head())\n"
      ],
      "metadata": {
        "colab": {
          "base_uri": "https://localhost:8080/"
        },
        "id": "vITNiuwl02_e",
        "outputId": "66465a4d-f88d-43d0-ae35-7d48bc2b50e8"
      },
      "execution_count": null,
      "outputs": [
        {
          "output_type": "stream",
          "name": "stdout",
          "text": [
            "  Month   \"1958\"   \"1959\"   \"1960\"\n",
            "0   JAN      340      360      417\n",
            "1   FEB      318      342      391\n",
            "2   MAR      362      406      419\n",
            "3   APR      348      396      461\n",
            "4   MAY      363      420      472\n"
          ]
        }
      ]
    },
    {
      "cell_type": "markdown",
      "source": [
        "**What do you notice about the data?**\n",
        "\n",
        "- Each row represents a month from JAN to DEC.\n",
        "- Each column corresponds to a specific year: 1958, 1959, and 1960.\n",
        "- The numbers in the table seem to represent some kind of count (likely passengers, sales, etc.).\n",
        "- The values generally increase from 1958 to 1960.\n",
        "- The highest values are typically seen in the summer months, like JUL and AUG."
      ],
      "metadata": {
        "id": "GpGfb7a1yKvx"
      }
    },
    {
      "cell_type": "markdown",
      "source": [
        "**6. Load the CSV from Q5 and find:  \n",
        "  - The month with the highest total passengers  \n",
        "  - The month with the lowest in 1958**\n"
      ],
      "metadata": {
        "id": "hKGhPr8XzSv0"
      }
    },
    {
      "cell_type": "markdown",
      "source": [
        "Finding the month with the highest total passenger"
      ],
      "metadata": {
        "id": "NfM3Al5H1sd9"
      }
    },
    {
      "cell_type": "code",
      "source": [
        "# Clean the column names by removing spaces and quotes\n",
        "df.columns = df.columns.str.strip().str.replace('\"', '')\n",
        "\n",
        "# Create a new column for total passengers across all years\n",
        "df['Total'] = df[['1958', '1959', '1960']].sum(axis=1)\n",
        "\n",
        "# Find the month with the highest total passengers\n",
        "highest_month = df.loc[df['Total'].idxmax(), 'Month']\n",
        "\n",
        "print(\"Month with highest total passengers:\", highest_month)\n"
      ],
      "metadata": {
        "colab": {
          "base_uri": "https://localhost:8080/"
        },
        "id": "0PH8gMYi11Wk",
        "outputId": "ed6509d6-3ba4-436e-cf2e-a65dc561ed4a"
      },
      "execution_count": null,
      "outputs": [
        {
          "output_type": "stream",
          "name": "stdout",
          "text": [
            "Month with highest total passengers: AUG\n"
          ]
        }
      ]
    },
    {
      "cell_type": "markdown",
      "source": [
        "Find the month with the lowest in 1958:"
      ],
      "metadata": {
        "id": "GtMkVNCR4Ck1"
      }
    },
    {
      "cell_type": "code",
      "source": [
        "lowest_1958_month = df.loc[df['1958'].idxmin(), 'Month']\n",
        "\n",
        "print(\"Month with lowest passengers in 1958:\", lowest_1958_month)\n"
      ],
      "metadata": {
        "colab": {
          "base_uri": "https://localhost:8080/"
        },
        "id": "KcdIsQia4Fgt",
        "outputId": "1c6fc77c-59ca-4499-ef0e-05c4fc9c5b3f"
      },
      "execution_count": null,
      "outputs": [
        {
          "output_type": "stream",
          "name": "stdout",
          "text": [
            "Month with lowest passengers in 1958: NOV\n"
          ]
        }
      ]
    },
    {
      "cell_type": "markdown",
      "source": [
        "**7. What does the .groupby() function do in pandas? Show an example using dummy data. [link text](https://)**\n"
      ],
      "metadata": {
        "id": "x4J0c5T94ijW"
      }
    },
    {
      "cell_type": "markdown",
      "source": [
        "**.groupby()** in pandas is used to group rows that have the same value in a column. It helps us summarize data, like finding the total, average, or count for each group."
      ],
      "metadata": {
        "id": "ksn-I7hX4jRr"
      }
    },
    {
      "cell_type": "code",
      "source": [
        "# Create a DataFrame with departments and their salaries\n",
        "data = {\n",
        "    'Dep': ['se', 'cse', 'IT', 'civil'],\n",
        "    'Salary': [3000, 3200, 4000, 4200]\n",
        "}\n",
        "\n",
        "df = pd.DataFrame(data)\n",
        "\n",
        "# Group by 'Department' and calculate the average salary in each group\n",
        "aver_salary = df.groupby('Dep')['Salary'].mean()\n",
        "# Print the result\n",
        "print(\"Average salary for each dep:\")\n",
        "print(aver_salary)\n"
      ],
      "metadata": {
        "colab": {
          "base_uri": "https://localhost:8080/"
        },
        "id": "8hPFhpjY4pmG",
        "outputId": "0ea2121e-a69d-4537-990c-bba7071b6a46"
      },
      "execution_count": null,
      "outputs": [
        {
          "output_type": "stream",
          "name": "stdout",
          "text": [
            "Average salary for each dep:\n",
            "Dep\n",
            "IT       4000.0\n",
            "civil    4200.0\n",
            "cse      3200.0\n",
            "se       3000.0\n",
            "Name: Salary, dtype: float64\n"
          ]
        }
      ]
    },
    {
      "cell_type": "markdown",
      "source": [
        "**8. Load the Titanic dataset from seaborn and:  \n",
        "  - Count how many missing values are in each column**\n"
      ],
      "metadata": {
        "id": "xkbFLVT952jW"
      }
    },
    {
      "cell_type": "markdown",
      "source": [
        "The Titanic dataset is a famous dataset that shows passengers' details.\n",
        "I use seaborn to load the data.\n",
        "Then I use .isnull().sum() to count missing values in each column.\n",
        "Missing values mean the data is empty or not given."
      ],
      "metadata": {
        "id": "PK3lRZjO54Jn"
      }
    },
    {
      "cell_type": "code",
      "source": [
        "import seaborn as sns\n",
        "\n",
        "# Load Titanic dataset from seaborn\n",
        "titanic = sns.load_dataset('titanic')\n",
        "\n",
        "# Show the first 5 rows (just to see the data)\n",
        "print(titanic.head())\n",
        "\n",
        "# Count missing values in each column\n",
        "missing_values = titanic.isnull().sum()\n",
        "\n",
        "print(\"\\n Missing values in each column:\")\n",
        "print(missing_values)\n"
      ],
      "metadata": {
        "colab": {
          "base_uri": "https://localhost:8080/"
        },
        "id": "VRHmVVFv5-jP",
        "outputId": "0fbcece9-6266-4923-9dfb-d752270c8050"
      },
      "execution_count": null,
      "outputs": [
        {
          "output_type": "stream",
          "name": "stdout",
          "text": [
            "   survived  pclass     sex   age  sibsp  parch     fare embarked  class  \\\n",
            "0         0       3    male  22.0      1      0   7.2500        S  Third   \n",
            "1         1       1  female  38.0      1      0  71.2833        C  First   \n",
            "2         1       3  female  26.0      0      0   7.9250        S  Third   \n",
            "3         1       1  female  35.0      1      0  53.1000        S  First   \n",
            "4         0       3    male  35.0      0      0   8.0500        S  Third   \n",
            "\n",
            "     who  adult_male deck  embark_town alive  alone  \n",
            "0    man        True  NaN  Southampton    no  False  \n",
            "1  woman       False    C    Cherbourg   yes  False  \n",
            "2  woman       False  NaN  Southampton   yes   True  \n",
            "3  woman       False    C  Southampton   yes  False  \n",
            "4    man        True  NaN  Southampton    no   True  \n",
            "\n",
            " Missing values in each column:\n",
            "survived         0\n",
            "pclass           0\n",
            "sex              0\n",
            "age            177\n",
            "sibsp            0\n",
            "parch            0\n",
            "fare             0\n",
            "embarked         2\n",
            "class            0\n",
            "who              0\n",
            "adult_male       0\n",
            "deck           688\n",
            "embark_town      2\n",
            "alive            0\n",
            "alone            0\n",
            "dtype: int64\n"
          ]
        }
      ]
    },
    {
      "cell_type": "markdown",
      "source": [
        "**9. Use df[\"Age\"].hist() to visualize the age distribution.  \n",
        "What shape do you see?  \n",
        "What might be the reason for the skew?**\n"
      ],
      "metadata": {
        "id": "zW7XVpOi6SI4"
      }
    },
    {
      "cell_type": "markdown",
      "source": [
        "We use **df[\"age\"].hist()** to create a histogram, which shows how many people are in each age group.  \n",
        "The shape appears as a right-skewed curve.  \n",
        "Many passengers are young, and fewer are older.  \n",
        "The skew might be because there were more young people or children on board. Additionally, some older ages might be missing."
      ],
      "metadata": {
        "id": "kF9s9Bav6TDB"
      }
    },
    {
      "cell_type": "code",
      "source": [
        "import matplotlib.pyplot as plt\n",
        "\n",
        "# Make a histogram of the age column\n",
        "df[\"age\"].hist(bins=20, edgecolor='black')\n",
        "\n",
        "# Add title and labels\n",
        "plt.title(\"Age Distribution of Titanic Passengers\")\n",
        "plt.xlabel(\"Age\")\n",
        "plt.ylabel(\"Number of People\")\n",
        "plt.show()\n"
      ],
      "metadata": {
        "colab": {
          "base_uri": "https://localhost:8080/",
          "height": 472
        },
        "id": "sunEmyE76eGC",
        "outputId": "692818fe-ef80-44b6-cb5f-d00be2427aed"
      },
      "execution_count": null,
      "outputs": [
        {
          "output_type": "display_data",
          "data": {
            "text/plain": [
              "<Figure size 640x480 with 1 Axes>"
            ],
            "image/png": "[encoded data removed]"
          },
          "metadata": {}
        }
      ]
    },
    {
      "cell_type": "markdown",
      "source": [
        "**10. What does it mean if a column has a high standard deviation?  \n",
        "  Create a list or column that has a low and a high std. dev, and compare.**\n"
      ],
      "metadata": {
        "id": "HNnYREwT7UbK"
      }
    },
    {
      "cell_type": "markdown",
      "source": [
        "Standard Deviation tells us how far the values are from the average (mean).\n",
        "\n",
        "If **std is high** → the numbers are spread far from the average.  \n",
        "If **std is low** → the numbers are close together near the average."
      ],
      "metadata": {
        "id": "31O3MRVW7V_l"
      }
    },
    {
      "cell_type": "code",
      "source": [
        "\n",
        "# High std:\n",
        "high_std = pd.Series([10, 100, 50, 90, 5])\n",
        "print(\"High Standard Deviation:\", high_std.std())\n",
        "\n",
        "# Low std: values are close to the average\n",
        "low_std = pd.Series([50, 51, 49, 50, 50])\n",
        "print(\"Low Standard Deviation:\", low_std.std())\n"
      ],
      "metadata": {
        "colab": {
          "base_uri": "https://localhost:8080/"
        },
        "id": "OjNcAGfJ7dUa",
        "outputId": "771414f2-0820-4d5a-e525-461774ea8fe0"
      },
      "execution_count": null,
      "outputs": [
        {
          "output_type": "stream",
          "name": "stdout",
          "text": [
            "High Standard Deviation: 43.93176527297759\n",
            "Low Standard Deviation: 0.7071067811865476\n"
          ]
        }
      ]
    },
    {
      "cell_type": "markdown",
      "source": [
        "**High std**: Numbers are not close to each other → big difference → high std.  \n",
        "**Low std**: Numbers are almost the same → small difference → low std.\n",
        "\n",
        "**In summary**:  \n",
        "- High std = values are very different.\n",
        "- Low std = values are very similar."
      ],
      "metadata": {
        "id": "TDF7sfXm7rgo"
      }
    },
    {
      "cell_type": "markdown",
      "source": [
        "**_11. What are some real-world problems where missing data might affect results? Give 2 examples_**\n"
      ],
      "metadata": {
        "id": "-y4OGquz7shX"
      }
    },
    {
      "cell_type": "markdown",
      "source": [
        "**Examples:**\n",
        "\n",
        "1. **Medical Data**  \n",
        "   If we miss a patient's info (like age, test result, or condition), the doctor might give the wrong treatment.  \n",
        "   For example, if someone has high blood pressure but the data is missing, they may not get help in time.\n",
        "\n",
        "2. **Student Grades or Attendance**  \n",
        "   If a school is missing some student grades or attendance info, they may fail a good student or pass a student who didn’t attend.  \n",
        "   This makes the result unfair and wrong."
      ],
      "metadata": {
        "id": "nkXd9Q517_qH"
      }
    }
  ]
}